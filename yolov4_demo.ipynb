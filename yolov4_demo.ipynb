{
 "cells": [
  {
   "cell_type": "markdown",
   "metadata": {
    "id": "OMsRlH8QwFQd"
   },
   "source": [
    "# Simple object tracker\n",
    "\n",
    "Run a very simple car tracker on any Youtube video. This notebook is designed to run [norfair/yolov5demo.py](https://github.com/tryolabs/norfair/blob/master/demos/yolov5/yolov5demo.py) on Google Colabratory.\n",
    "\n",
    "The demo will use the following video by default, but you can change which video you use by changing the youtube link in [this cell](#Download-Video-and-Preprocessing). We trim the video to only a few seconds due to limitations with video playback in Google Colab, but you can play with these limitations and see what you get.\n",
    "\n",
    "[![](https://img.youtube.com/vi/aio9g9_xVio/0.jpg)](https://www.youtube.com/watch?v=aio9g9_xVio)\n",
    "\n",
    "**Note**\n",
    "- Set the hardware accelerator setting of Colaboratory to **GPU** and execute it.\n",
    "(Runtime -> Change Runtime Type -> GPU)\n"
   ]
  },
  {
   "cell_type": "markdown",
   "metadata": {
    "id": "b9vEmKjb2SnV"
   },
   "source": [
    "# Install the required libraries"
   ]
  },
  {
   "cell_type": "code",
   "execution_count": 1,
   "metadata": {
    "id": "-TosvQp8qFcW"
   },
   "outputs": [],
   "source": [
    "!pip install -q norfair youtube_dl"
   ]
  },
  {
   "cell_type": "markdown",
   "metadata": {
    "id": "xV-EINjYphh7"
   },
   "source": [
    "# Download [Video](https://www.youtube.com/watch?v=aio9g9_xVio) and Preprocessing\n",
    "We cut the video short because it's too long to play in Google Colabratory."
   ]
  },
  {
   "cell_type": "code",
   "execution_count": 4,
   "metadata": {
    "id": "BeBDidYzphh7"
   },
   "outputs": [
    {
     "name": "stdout",
     "output_type": "stream",
     "text": [
      "ffmpeg version 4.2.4-1ubuntu0.1 Copyright (c) 2000-2020 the FFmpeg developers\n",
      "  built with gcc 9 (Ubuntu 9.3.0-10ubuntu2)\n",
      "  configuration: --prefix=/usr --extra-version=1ubuntu0.1 --toolchain=hardened --libdir=/usr/lib/x86_64-linux-gnu --incdir=/usr/include/x86_64-linux-gnu --arch=amd64 --enable-gpl --disable-stripping --enable-avresample --disable-filter=resample --enable-avisynth --enable-gnutls --enable-ladspa --enable-libaom --enable-libass --enable-libbluray --enable-libbs2b --enable-libcaca --enable-libcdio --enable-libcodec2 --enable-libflite --enable-libfontconfig --enable-libfreetype --enable-libfribidi --enable-libgme --enable-libgsm --enable-libjack --enable-libmp3lame --enable-libmysofa --enable-libopenjpeg --enable-libopenmpt --enable-libopus --enable-libpulse --enable-librsvg --enable-librubberband --enable-libshine --enable-libsnappy --enable-libsoxr --enable-libspeex --enable-libssh --enable-libtheora --enable-libtwolame --enable-libvidstab --enable-libvorbis --enable-libvpx --enable-libwavpack --enable-libwebp --enable-libx265 --enable-libxml2 --enable-libxvid --enable-libzmq --enable-libzvbi --enable-lv2 --enable-omx --enable-openal --enable-opencl --enable-opengl --enable-sdl2 --enable-libdc1394 --enable-libdrm --enable-libiec61883 --enable-nvenc --enable-chromaprint --enable-frei0r --enable-libx264 --enable-shared\n",
      "  libavutil      56. 31.100 / 56. 31.100\n",
      "  libavcodec     58. 54.100 / 58. 54.100\n",
      "  libavformat    58. 29.100 / 58. 29.100\n",
      "  libavdevice    58.  8.100 / 58.  8.100\n",
      "  libavfilter     7. 57.100 /  7. 57.100\n",
      "  libavresample   4.  0.  0 /  4.  0.  0\n",
      "  libswscale      5.  5.100 /  5.  5.100\n",
      "  libswresample   3.  5.100 /  3.  5.100\n",
      "  libpostproc    55.  5.100 / 55.  5.100\n",
      "Input #0, mov,mp4,m4a,3gp,3g2,mj2, from 'sample.mp4':\n",
      "  Metadata:\n",
      "    major_brand     : isom\n",
      "    minor_version   : 512\n",
      "    compatible_brands: isomiso2avc1mp41\n",
      "    encoder         : Lavf59.4.101\n",
      "  Duration: 00:01:00.07, start: 0.000000, bitrate: 3269 kb/s\n",
      "    Stream #0:0(und): Audio: aac (LC) (mp4a / 0x6134706D), 44100 Hz, stereo, fltp, 128 kb/s (default)\n",
      "    Metadata:\n",
      "      handler_name    : SoundHandler\n",
      "    Stream #0:1(und): Video: h264 (High) (avc1 / 0x31637661), yuv420p(tv, bt709), 1280x720 [SAR 1:1 DAR 16:9], 3132 kb/s, 30 fps, 30 tbr, 15360 tbn, 60 tbc (default)\n",
      "    Metadata:\n",
      "      handler_name    : VideoHandler\n",
      "Stream mapping:\n",
      "  Stream #0:1 -> #0:0 (h264 (native) -> h264 (libx264))\n",
      "  Stream #0:0 -> #0:1 (aac (native) -> aac (native))\n",
      "Press [q] to stop, [?] for help\n",
      "\u001b[1;36m[libx264 @ 0x56220db7a700] \u001b[0musing SAR=1/1\n",
      "\u001b[1;36m[libx264 @ 0x56220db7a700] \u001b[0musing cpu capabilities: MMX2 SSE2Fast SSSE3 SSE4.2 AVX FMA3 BMI2 AVX2\n",
      "\u001b[1;36m[libx264 @ 0x56220db7a700] \u001b[0mprofile High, level 3.1\n",
      "\u001b[1;36m[libx264 @ 0x56220db7a700] \u001b[0m264 - core 155 r2917 0a84d98 - H.264/MPEG-4 AVC codec - Copyleft 2003-2018 - http://www.videolan.org/x264.html - options: cabac=1 ref=3 deblock=1:0:0 analyse=0x3:0x113 me=hex subme=7 psy=1 psy_rd=1.00:0.00 mixed_ref=1 me_range=16 chroma_me=1 trellis=1 8x8dct=1 cqm=0 deadzone=21,11 fast_pskip=1 chroma_qp_offset=-2 threads=9 lookahead_threads=1 sliced_threads=0 nr=0 decimate=1 interlaced=0 bluray_compat=0 constrained_intra=0 bframes=3 b_pyramid=2 b_adapt=1 b_bias=0 direct=1 weightb=1 open_gop=0 weightp=2 keyint=250 keyint_min=25 scenecut=40 intra_refresh=0 rc_lookahead=40 rc=crf mbtree=1 crf=23.0 qcomp=0.60 qpmin=0 qpmax=69 qpstep=4 ip_ratio=1.40 aq=1:1.00\n",
      "Output #0, mp4, to 'sample_10s.mp4':\n",
      "  Metadata:\n",
      "    major_brand     : isom\n",
      "    minor_version   : 512\n",
      "    compatible_brands: isomiso2avc1mp41\n",
      "    encoder         : Lavf58.29.100\n",
      "    Stream #0:0(und): Video: h264 (libx264) (avc1 / 0x31637661), yuv420p, 1280x720 [SAR 1:1 DAR 16:9], q=-1--1, 30 fps, 15360 tbn, 30 tbc (default)\n",
      "    Metadata:\n",
      "      handler_name    : VideoHandler\n",
      "      encoder         : Lavc58.54.100 libx264\n",
      "    Side data:\n",
      "      cpb: bitrate max/min/avg: 0/0/0 buffer size: 0 vbv_delay: -1\n",
      "    Stream #0:1(und): Audio: aac (LC) (mp4a / 0x6134706D), 44100 Hz, stereo, fltp, 128 kb/s (default)\n",
      "    Metadata:\n",
      "      handler_name    : SoundHandler\n",
      "      encoder         : Lavc58.54.100 aac\n",
      "frame=  300 fps= 72 q=-1.0 Lsize=    2224kB time=00:00:10.00 bitrate=1820.1kbits/s speed=2.41x    \n",
      "video:2055kB audio:157kB subtitle:0kB other streams:0kB global headers:0kB muxing overhead: 0.535939%\n",
      "\u001b[1;36m[libx264 @ 0x56220db7a700] \u001b[0mframe I:2     Avg QP:20.36  size: 66656\n",
      "\u001b[1;36m[libx264 @ 0x56220db7a700] \u001b[0mframe P:97    Avg QP:22.17  size: 14270\n",
      "\u001b[1;36m[libx264 @ 0x56220db7a700] \u001b[0mframe B:201   Avg QP:26.85  size:  2914\n",
      "\u001b[1;36m[libx264 @ 0x56220db7a700] \u001b[0mconsecutive B-frames:  2.0% 21.3% 14.0% 62.7%\n",
      "\u001b[1;36m[libx264 @ 0x56220db7a700] \u001b[0mmb I  I16..4: 13.9% 62.4% 23.7%\n",
      "\u001b[1;36m[libx264 @ 0x56220db7a700] \u001b[0mmb P  I16..4:  3.0%  5.0%  2.0%  P16..4: 45.7%  9.9%  5.9%  0.0%  0.0%    skip:28.6%\n",
      "\u001b[1;36m[libx264 @ 0x56220db7a700] \u001b[0mmb B  I16..4:  0.1%  0.2%  0.1%  B16..8: 38.3%  1.9%  0.4%  direct: 0.8%  skip:58.1%  L0:43.5% L1:52.5% BI: 4.0%\n",
      "\u001b[1;36m[libx264 @ 0x56220db7a700] \u001b[0m8x8 transform intra:51.6% inter:68.7%\n",
      "\u001b[1;36m[libx264 @ 0x56220db7a700] \u001b[0mcoded y,uvDC,uvAC intra: 51.3% 58.5% 12.4% inter: 8.4% 9.7% 0.0%\n",
      "\u001b[1;36m[libx264 @ 0x56220db7a700] \u001b[0mi16 v,h,dc,p:  6% 62%  8% 24%\n",
      "\u001b[1;36m[libx264 @ 0x56220db7a700] \u001b[0mi8 v,h,dc,ddl,ddr,vr,hd,vl,hu: 11% 38% 20%  4%  5%  4%  7%  3%  8%\n",
      "\u001b[1;36m[libx264 @ 0x56220db7a700] \u001b[0mi4 v,h,dc,ddl,ddr,vr,hd,vl,hu: 19% 34% 13%  5%  6%  6%  7%  4%  6%\n",
      "\u001b[1;36m[libx264 @ 0x56220db7a700] \u001b[0mi8c dc,h,v,p: 53% 28% 16%  4%\n",
      "\u001b[1;36m[libx264 @ 0x56220db7a700] \u001b[0mWeighted P-Frames: Y:0.0% UV:0.0%\n",
      "\u001b[1;36m[libx264 @ 0x56220db7a700] \u001b[0mref P L0: 74.1% 14.9%  8.7%  2.3%\n",
      "\u001b[1;36m[libx264 @ 0x56220db7a700] \u001b[0mref B L0: 93.7%  5.5%  0.8%\n",
      "\u001b[1;36m[libx264 @ 0x56220db7a700] \u001b[0mref B L1: 98.8%  1.2%\n",
      "\u001b[1;36m[libx264 @ 0x56220db7a700] \u001b[0mkb/s:1682.50\n",
      "\u001b[1;36m[aac @ 0x56220db47280] \u001b[0mQavg: 236.437\n"
     ]
    }
   ],
   "source": [
    "# !youtube-dl https://www.youtube.com/watch?v=aio9g9_xVio -f mp4 --output sample.mp4\n",
    "!ffmpeg -i sample.mp4 -ss 7 -t 10 sample_10s.mp4"
   ]
  },
  {
   "cell_type": "markdown",
   "metadata": {
    "id": "-jZnwvD92hCA"
   },
   "source": [
    "# [YOLOv5](https://github.com/fcakyon/yolov5-pip) Installation"
   ]
  },
  {
   "cell_type": "code",
   "execution_count": 3,
   "metadata": {
    "id": "_pVfjd672Q5o"
   },
   "outputs": [
    {
     "name": "stdout",
     "output_type": "stream",
     "text": [
      "Collecting yolov5\n",
      "  Downloading yolov5-5.0.7-py36.py37.py38-none-any.whl (798 kB)\n",
      "\u001b[K     |████████████████████████████████| 798 kB 785 kB/s eta 0:00:01\n",
      "\u001b[?25hCollecting seaborn>=0.11.0\n",
      "  Downloading seaborn-0.11.2-py3-none-any.whl (292 kB)\n",
      "\u001b[K     |████████████████████████████████| 292 kB 9.9 MB/s eta 0:00:01\n",
      "\u001b[?25hRequirement already satisfied: Pillow in /home/minh/anaconda3/envs/tracking/lib/python3.7/site-packages (from yolov5) (8.3.1)\n",
      "Requirement already satisfied: numpy>=1.18.5 in /home/minh/anaconda3/envs/tracking/lib/python3.7/site-packages (from yolov5) (1.21.2)\n",
      "Collecting thop\n",
      "  Using cached thop-0.0.31.post2005241907-py3-none-any.whl (8.7 kB)\n",
      "Collecting pycocotools>=2.0\n",
      "  Using cached pycocotools-2.0.2-cp37-cp37m-linux_x86_64.whl\n",
      "Collecting torchvision>=0.8.1\n",
      "  Downloading torchvision-0.10.0-cp37-cp37m-manylinux1_x86_64.whl (22.1 MB)\n",
      "\u001b[K     |████████████████████████████████| 22.1 MB 1.8 MB/s eta 0:00:013\n",
      "\u001b[?25hCollecting tensorboard>=2.4.1\n",
      "  Using cached tensorboard-2.6.0-py3-none-any.whl (5.6 MB)\n",
      "Collecting tqdm>=4.41.0\n",
      "  Downloading tqdm-4.62.1-py2.py3-none-any.whl (76 kB)\n",
      "\u001b[K     |████████████████████████████████| 76 kB 2.4 MB/s eta 0:00:01\n",
      "\u001b[?25hCollecting pandas\n",
      "  Downloading pandas-1.3.2-cp37-cp37m-manylinux_2_17_x86_64.manylinux2014_x86_64.whl (11.3 MB)\n",
      "\u001b[K     |████████████████████████████████| 11.3 MB 2.8 MB/s eta 0:00:01\n",
      "\u001b[?25hRequirement already satisfied: scipy>=1.4.1 in /home/minh/anaconda3/envs/tracking/lib/python3.7/site-packages (from yolov5) (1.7.1)\n",
      "Requirement already satisfied: matplotlib>=3.2.2 in /home/minh/anaconda3/envs/tracking/lib/python3.7/site-packages (from yolov5) (3.4.3)\n",
      "Collecting opencv-python>=4.1.2\n",
      "  Using cached opencv_python-4.5.3.56-cp37-cp37m-manylinux2014_x86_64.whl (49.9 MB)\n",
      "Collecting torch>=1.7.0\n",
      "  Downloading torch-1.9.0-cp37-cp37m-manylinux1_x86_64.whl (831.4 MB)\n",
      "\u001b[K     |████████████████████████████████| 831.4 MB 4.3 kB/s eta 0:00:01\n",
      "\u001b[33mWARNING: Retrying (Retry(total=4, connect=None, read=None, redirect=None, status=None)) after connection broken by 'ReadTimeoutError(\"HTTPSConnectionPool(host='pypi.org', port=443): Read timed out. (read timeout=15)\")': /simple/pyyaml/\u001b[0m\n",
      "\u001b[?25hCollecting PyYAML>=5.3.1\n",
      "  Using cached PyYAML-5.4.1-cp37-cp37m-manylinux1_x86_64.whl (636 kB)\n",
      "Requirement already satisfied: cycler>=0.10 in /home/minh/anaconda3/envs/tracking/lib/python3.7/site-packages (from matplotlib>=3.2.2->yolov5) (0.10.0)\n",
      "Requirement already satisfied: python-dateutil>=2.7 in /home/minh/anaconda3/envs/tracking/lib/python3.7/site-packages (from matplotlib>=3.2.2->yolov5) (2.8.2)\n",
      "Requirement already satisfied: pyparsing>=2.2.1 in /home/minh/anaconda3/envs/tracking/lib/python3.7/site-packages (from matplotlib>=3.2.2->yolov5) (2.4.7)\n",
      "Requirement already satisfied: kiwisolver>=1.0.1 in /home/minh/anaconda3/envs/tracking/lib/python3.7/site-packages (from matplotlib>=3.2.2->yolov5) (1.3.1)\n",
      "Requirement already satisfied: six in /home/minh/anaconda3/envs/tracking/lib/python3.7/site-packages (from cycler>=0.10->matplotlib>=3.2.2->yolov5) (1.16.0)\n",
      "Collecting cython>=0.27.3\n",
      "  Downloading Cython-0.29.24-cp37-cp37m-manylinux1_x86_64.whl (2.0 MB)\n",
      "\u001b[K     |████████████████████████████████| 2.0 MB 2.5 MB/s eta 0:00:01\n",
      "\u001b[?25hRequirement already satisfied: setuptools>=18.0 in /home/minh/anaconda3/envs/tracking/lib/python3.7/site-packages (from pycocotools>=2.0->yolov5) (52.0.0.post20210125)\n",
      "Collecting pytz>=2017.3\n",
      "  Using cached pytz-2021.1-py2.py3-none-any.whl (510 kB)\n",
      "Collecting protobuf>=3.6.0\n",
      "  Using cached protobuf-3.17.3-cp37-cp37m-manylinux_2_5_x86_64.manylinux1_x86_64.whl (1.0 MB)\n",
      "Collecting markdown>=2.6.8\n",
      "  Using cached Markdown-3.3.4-py3-none-any.whl (97 kB)\n",
      "Collecting tensorboard-plugin-wit>=1.6.0\n",
      "  Using cached tensorboard_plugin_wit-1.8.0-py3-none-any.whl (781 kB)\n",
      "Collecting google-auth<2,>=1.6.3\n",
      "  Downloading google_auth-1.35.0-py2.py3-none-any.whl (152 kB)\n",
      "\u001b[K     |████████████████████████████████| 152 kB 3.0 MB/s eta 0:00:01\n",
      "\u001b[?25hCollecting tensorboard-data-server<0.7.0,>=0.6.0\n",
      "  Using cached tensorboard_data_server-0.6.1-py3-none-manylinux2010_x86_64.whl (4.9 MB)\n",
      "Collecting google-auth-oauthlib<0.5,>=0.4.1\n",
      "  Using cached google_auth_oauthlib-0.4.5-py2.py3-none-any.whl (18 kB)\n",
      "Collecting werkzeug>=0.11.15\n",
      "  Using cached Werkzeug-2.0.1-py3-none-any.whl (288 kB)\n",
      "Requirement already satisfied: wheel>=0.26 in /home/minh/anaconda3/envs/tracking/lib/python3.7/site-packages (from tensorboard>=2.4.1->yolov5) (0.37.0)\n",
      "Collecting absl-py>=0.4\n",
      "  Using cached absl_py-0.13.0-py3-none-any.whl (132 kB)\n",
      "Collecting requests<3,>=2.21.0\n",
      "  Using cached requests-2.26.0-py2.py3-none-any.whl (62 kB)\n",
      "Collecting grpcio>=1.24.3\n",
      "  Using cached grpcio-1.39.0-cp37-cp37m-manylinux2014_x86_64.whl (4.3 MB)\n",
      "Collecting cachetools<5.0,>=2.0.0\n",
      "  Using cached cachetools-4.2.2-py3-none-any.whl (11 kB)\n",
      "Collecting pyasn1-modules>=0.2.1\n",
      "  Using cached pyasn1_modules-0.2.8-py2.py3-none-any.whl (155 kB)\n",
      "Collecting rsa<5,>=3.1.4\n",
      "  Using cached rsa-4.7.2-py3-none-any.whl (34 kB)\n",
      "Collecting requests-oauthlib>=0.7.0\n",
      "  Using cached requests_oauthlib-1.3.0-py2.py3-none-any.whl (23 kB)\n",
      "Requirement already satisfied: importlib-metadata in /home/minh/anaconda3/envs/tracking/lib/python3.7/site-packages (from markdown>=2.6.8->tensorboard>=2.4.1->yolov5) (3.10.0)\n",
      "Collecting pyasn1<0.5.0,>=0.4.6\n",
      "  Using cached pyasn1-0.4.8-py2.py3-none-any.whl (77 kB)\n",
      "Collecting urllib3<1.27,>=1.21.1\n",
      "  Using cached urllib3-1.26.6-py2.py3-none-any.whl (138 kB)\n",
      "Collecting charset-normalizer~=2.0.0\n",
      "  Using cached charset_normalizer-2.0.4-py3-none-any.whl (36 kB)\n",
      "Requirement already satisfied: certifi>=2017.4.17 in /home/minh/anaconda3/envs/tracking/lib/python3.7/site-packages (from requests<3,>=2.21.0->tensorboard>=2.4.1->yolov5) (2021.5.30)\n",
      "Collecting idna<4,>=2.5\n",
      "  Using cached idna-3.2-py3-none-any.whl (59 kB)\n",
      "Collecting oauthlib>=3.0.0\n",
      "  Using cached oauthlib-3.1.1-py2.py3-none-any.whl (146 kB)\n",
      "Requirement already satisfied: typing-extensions in /home/minh/anaconda3/envs/tracking/lib/python3.7/site-packages (from torch>=1.7.0->yolov5) (3.10.0.0)\n",
      "Requirement already satisfied: zipp>=0.5 in /home/minh/anaconda3/envs/tracking/lib/python3.7/site-packages (from importlib-metadata->markdown>=2.6.8->tensorboard>=2.4.1->yolov5) (3.5.0)\n",
      "Installing collected packages: urllib3, pyasn1, idna, charset-normalizer, rsa, requests, pyasn1-modules, oauthlib, cachetools, requests-oauthlib, pytz, google-auth, werkzeug, torch, tensorboard-plugin-wit, tensorboard-data-server, protobuf, pandas, markdown, grpcio, google-auth-oauthlib, cython, absl-py, tqdm, torchvision, thop, tensorboard, seaborn, PyYAML, pycocotools, opencv-python, yolov5\n",
      "Successfully installed PyYAML-5.4.1 absl-py-0.13.0 cachetools-4.2.2 charset-normalizer-2.0.4 cython-0.29.24 google-auth-1.35.0 google-auth-oauthlib-0.4.5 grpcio-1.39.0 idna-3.2 markdown-3.3.4 oauthlib-3.1.1 opencv-python-4.5.3.56 pandas-1.3.2 protobuf-3.17.3 pyasn1-0.4.8 pyasn1-modules-0.2.8 pycocotools-2.0.2 pytz-2021.1 requests-2.26.0 requests-oauthlib-1.3.0 rsa-4.7.2 seaborn-0.11.2 tensorboard-2.6.0 tensorboard-data-server-0.6.1 tensorboard-plugin-wit-1.8.0 thop-0.0.31.post2005241907 torch-1.9.0 torchvision-0.10.0 tqdm-4.62.1 urllib3-1.26.6 werkzeug-2.0.1 yolov5-5.0.7\n"
     ]
    }
   ],
   "source": [
    "!pip install yolov5"
   ]
  },
  {
   "cell_type": "markdown",
   "metadata": {
    "id": "yyRxBpno3Tf4"
   },
   "source": [
    "# Download [Github - norfair/yolov5demo.py](https://github.com/tryolabs/norfair/blob/master/demos/yolov5/yolov5demo.py) and Run yolov5demo.py"
   ]
  },
  {
   "cell_type": "code",
   "execution_count": 5,
   "metadata": {
    "id": "Os2xvnOI3S_R"
   },
   "outputs": [
    {
     "name": "stdout",
     "output_type": "stream",
     "text": [
      "--2021-08-23 18:31:00--  https://raw.githubusercontent.com/tryolabs/norfair/master/demos/yolov5/yolov5demo.py\n",
      "Resolving raw.githubusercontent.com (raw.githubusercontent.com)... 185.199.110.133, 185.199.111.133, 185.199.109.133, ...\n",
      "Connecting to raw.githubusercontent.com (raw.githubusercontent.com)|185.199.110.133|:443... connected.\n",
      "HTTP request sent, awaiting response... 200 OK\n",
      "Length: 4548 (4,4K) [text/plain]\n",
      "Saving to: ‘yolov5demo.py’\n",
      "\n",
      "yolov5demo.py       100%[===================>]   4,44K  --.-KB/s    in 0s      \n",
      "\n",
      "2021-08-23 18:31:01 (17,3 MB/s) - ‘yolov5demo.py’ saved [4548/4548]\n",
      "\n"
     ]
    }
   ],
   "source": [
    "!wget \"https://raw.githubusercontent.com/tryolabs/norfair/master/demos/yolov5/yolov5demo.py\" -O yolov5demo.py"
   ]
  },
  {
   "cell_type": "code",
   "execution_count": 8,
   "metadata": {},
   "outputs": [
    {
     "name": "stdout",
     "output_type": "stream",
     "text": [
      "/home/minh/anaconda3/envs/tracking/lib/python3.7/site-packages/torch/nn/functional.py:718: UserWarning: Named tensors and all their associated APIs are an experimental feature and subject to change. Please do not use them for anything important until they are released as stable. (Triggered internally at  /pytorch/c10/core/TensorImpl.h:1156.)\n",
      "  return torch.max_pool2d(input, kernel_size, stride, padding, dilation, ceil_mode)\n",
      "\u001b[2Ksample.mp4 \u001b[38;2;114;156;31m━━━━━━━━━━━━━━━━━━━━━━━━━━━━━━━━━━━━━━━━\u001b[0m \u001b[35m100%\u001b[0m \u001b[36m0:00:00\u001b[0m \u001b[33m22.80fps\u001b[0m\u001b[0m \u001b[33m22.80fps\u001b[0m33m22.78fps\u001b[0m\n",
      "\u001b[?25h\u001b[37mOutput video file saved to: .\u001b[0m\u001b[37m/\u001b[0m\u001b[37msample_out.mp4\u001b[0m\n"
     ]
    }
   ],
   "source": [
    "!python yolov5demo.py sample.mp4 --img_size 1280 --classes 2"
   ]
  },
  {
   "cell_type": "markdown",
   "metadata": {
    "id": "gkQIIlYN4Mha"
   },
   "source": [
    "# Convert mp4 to webm\n",
    "Reference: [StackOverflow - python-opencv-video-format-play-in-browser](https://stackoverflow.com/questions/49530857/python-opencv-video-format-play-in-browser)"
   ]
  },
  {
   "cell_type": "code",
   "execution_count": null,
   "metadata": {
    "id": "wsJUOKOD7mT7"
   },
   "outputs": [],
   "source": [
    "!ffmpeg -i ./sample_10s_out.mp4 -vcodec vp9 ./sample_10s.webm"
   ]
  },
  {
   "cell_type": "code",
   "execution_count": null,
   "metadata": {
    "id": "tJHAEirK4LtQ"
   },
   "outputs": [],
   "source": [
    "# Displaying the Drawing Result"
   ]
  },
  {
   "cell_type": "code",
   "execution_count": null,
   "metadata": {
    "id": "zKN1li519ns4"
   },
   "outputs": [],
   "source": [
    "import io\n",
    "from base64 import b64encode\n",
    "from IPython.display import HTML\n",
    "\n",
    "with  io.open('sample_10s.webm','r+b') as f:\n",
    "    mp4 = f.read()\n",
    "data_url = \"data:video/webm;base64,\" + b64encode(mp4).decode()\n",
    "HTML(\"\"\"\n",
    "<video width=800 controls>\n",
    "      <source src=\"%s\" type=\"video/webm\">\n",
    "</video>\n",
    "\"\"\" % data_url)"
   ]
  },
  {
   "cell_type": "markdown",
   "metadata": {
    "id": "Bn_pz-Gpphh-"
   },
   "source": [
    "# Convert mp4 to gif"
   ]
  },
  {
   "cell_type": "code",
   "execution_count": null,
   "metadata": {
    "id": "c06O2ZJBphh-"
   },
   "outputs": [],
   "source": [
    "!ffmpeg -ss 5 -i ./sample_10s_out.mp4 -filter_complex \"[0:v] fps=10,scale=1280:-1,split [a][b];[a] palettegen [p];[b][p] paletteuse\" output.gif -y"
   ]
  },
  {
   "cell_type": "code",
   "execution_count": null,
   "metadata": {
    "id": "IDNGKoR-vzO6"
   },
   "outputs": [],
   "source": []
  },
  {
   "cell_type": "code",
   "execution_count": null,
   "metadata": {
    "id": "2lvMUwnwphh-"
   },
   "outputs": [],
   "source": []
  }
 ],
 "metadata": {
  "accelerator": "GPU",
  "colab": {
   "name": "yolov4_demo.ipynb",
   "provenance": []
  },
  "kernelspec": {
   "display_name": "Python 3",
   "language": "python",
   "name": "python3"
  },
  "language_info": {
   "codemirror_mode": {
    "name": "ipython",
    "version": 3
   },
   "file_extension": ".py",
   "mimetype": "text/x-python",
   "name": "python",
   "nbconvert_exporter": "python",
   "pygments_lexer": "ipython3",
   "version": "3.7.11"
  }
 },
 "nbformat": 4,
 "nbformat_minor": 1
}
