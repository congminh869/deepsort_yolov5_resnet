{
 "cells": [
  {
   "cell_type": "code",
   "execution_count": 1,
   "id": "0deb27e8",
   "metadata": {},
   "outputs": [],
   "source": [
    "from glob import glob\n",
    "a = glob(\"/home/minh/Documents/minh/mqsolutions/car_object_detection/save_image_yolov5/anh_detect_video/1_car_split/*/\")"
   ]
  },
  {
   "cell_type": "code",
   "execution_count": 3,
   "id": "cccb9dd4",
   "metadata": {},
   "outputs": [],
   "source": [
    "imgs = []\n",
    "for i in a:\n",
    "    for img in glob(i+'*.jpg'):\n",
    "        imgs.append(img)"
   ]
  },
  {
   "cell_type": "code",
   "execution_count": 5,
   "id": "bacf79ae",
   "metadata": {},
   "outputs": [],
   "source": [
    "from shutil import copy2\n",
    "dst = '/home/minh/Documents/minh/mqsolutions/car_object_detection/save_image_yolov5/anh_detect_video/all_1'\n",
    "for path in imgs:\n",
    "    copy2(path, dst)"
   ]
  },
  {
   "cell_type": "code",
   "execution_count": null,
   "id": "5ff0d590",
   "metadata": {},
   "outputs": [],
   "source": []
  }
 ],
 "metadata": {
  "kernelspec": {
   "display_name": "Python 3",
   "language": "python",
   "name": "python3"
  },
  "language_info": {
   "codemirror_mode": {
    "name": "ipython",
    "version": 3
   },
   "file_extension": ".py",
   "mimetype": "text/x-python",
   "name": "python",
   "nbconvert_exporter": "python",
   "pygments_lexer": "ipython3",
   "version": "3.7.11"
  }
 },
 "nbformat": 4,
 "nbformat_minor": 5
}
